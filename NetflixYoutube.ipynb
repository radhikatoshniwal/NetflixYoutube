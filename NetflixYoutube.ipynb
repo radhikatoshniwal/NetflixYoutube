{
  "nbformat": 4,
  "nbformat_minor": 0,
  "metadata": {
    "colab": {
      "name": "NetflixYoutube.ipynb",
      "provenance": [],
      "collapsed_sections": [
        "mx5dUa7tSh58",
        "_60DEZ4yaUr2",
        "QbCfuW2j1mY-",
        "PdOo59gIXRwb"
      ]
    },
    "kernelspec": {
      "name": "python3",
      "display_name": "Python 3"
    }
  },
  "cells": [
    {
      "cell_type": "markdown",
      "metadata": {
        "id": "uobuzdZ_fLpx"
      },
      "source": [
        "### Extracting all Videos Ids from the Uploads playlist"
      ]
    },
    {
      "cell_type": "code",
      "metadata": {
        "id": "OGudL_qdCaxv"
      },
      "source": [
        "channelid='UCZSNzBgFub_WWil6TOTYwAg'\n",
        "vpart='contentDetails,id,liveStreamingDetails,localizations,player,snippet,statistics,status,topicDetails'"
      ],
      "execution_count": 73,
      "outputs": []
    },
    {
      "cell_type": "code",
      "metadata": {
        "id": "0ftzPI6MLnj8"
      },
      "source": [
        "from apiclient.discovery import build"
      ],
      "execution_count": 27,
      "outputs": []
    },
    {
      "cell_type": "code",
      "metadata": {
        "id": "smeoE-txLaL8"
      },
      "source": [
        "api_key=\"xxxxxxxxxxxxxxxxxxxxxx\" #add API key\n",
        "youtube = build('youtube', 'v3', developerKey=api_key)"
      ],
      "execution_count": 28,
      "outputs": []
    },
    {
      "cell_type": "code",
      "metadata": {
        "id": "xNxpZQQc_eQ6"
      },
      "source": [
        "def get_channel_videos(channel_id):\n",
        "    \n",
        "    # get Uploads playlist id\n",
        "    res = youtube.channels().list(id=channel_id, \n",
        "                                  part='contentDetails').execute()\n",
        "    playlist_id = res['items'][0]['contentDetails']['relatedPlaylists']['uploads']\n",
        "    \n",
        "    videos = []\n",
        "    next_page_token = None\n",
        "    \n",
        "    while 1:\n",
        "        res = youtube.playlistItems().list(playlistId=playlist_id, \n",
        "                                           part=\"id,snippet\",\n",
        "                                           maxResults=50,\n",
        "                                           pageToken=next_page_token).execute()\n",
        "        videos += res['items']\n",
        "        next_page_token = res.get('nextPageToken')\n",
        "        \n",
        "        if next_page_token is None:\n",
        "            break\n",
        "    \n",
        "    return videos"
      ],
      "execution_count": 37,
      "outputs": []
    },
    {
      "cell_type": "code",
      "metadata": {
        "id": "RGHQYJniA-ae"
      },
      "source": [
        "videos=get_channel_videos(channel_id=channelid)"
      ],
      "execution_count": 38,
      "outputs": []
    },
    {
      "cell_type": "markdown",
      "metadata": {
        "id": "J2m2QQwTfdOF"
      },
      "source": [
        "### Video Details for every video using it's Id"
      ]
    },
    {
      "cell_type": "code",
      "metadata": {
        "id": "ACRW117qOjIv"
      },
      "source": [
        "netflixyoutube=[]\n",
        "for video in videos:\n",
        "  res = youtube.videos().list(part=vpart,id=video['snippet']['resourceId']['videoId']).execute()\n",
        "  netflixyoutube.append(res)"
      ],
      "execution_count": 64,
      "outputs": []
    },
    {
      "cell_type": "code",
      "metadata": {
        "id": "8vzrHTltNmFQ"
      },
      "source": [
        "import json\n",
        "with open('netflixyoutube.json', 'w') as f:\n",
        "    json.dump(netflixyoutube, f)"
      ],
      "execution_count": 71,
      "outputs": []
    },
    {
      "cell_type": "markdown",
      "metadata": {
        "id": "QKcxhjn-S1ZF"
      },
      "source": [
        "### Analysis on the data"
      ]
    },
    {
      "cell_type": "code",
      "metadata": {
        "id": "NVqySdW-nS0_"
      },
      "source": [
        "import json\n",
        "with open('data.json', 'r') as f:\n",
        "    data=json.load(f)"
      ],
      "execution_count": 1,
      "outputs": []
    },
    {
      "cell_type": "code",
      "metadata": {
        "id": "o49Yt4mwM-tT"
      },
      "source": [
        "title=[]\n",
        "views=[]\n",
        "duration=[]\n",
        "id=[]\n",
        "time=[]\n",
        "tags=[]\n",
        "likes=[]\n",
        "dislikes=[]\n",
        "comments=[]\n",
        "description=[]\n",
        "thumbnails=[]"
      ],
      "execution_count": 2,
      "outputs": []
    },
    {
      "cell_type": "code",
      "metadata": {
        "id": "CeTzh5-Rgeu1"
      },
      "source": [
        "\n",
        "for v in data:\n",
        "  duration.append(v['items'][0]['contentDetails']['duration'])\n",
        "  id.append(v['items'][0]['id'])\n",
        "  description.append(v['items'][0]['snippet']['description'])\n",
        "  title.append(v['items'][0]['snippet']['title'])\n",
        "  time.append(v['items'][0]['snippet']['publishedAt'])\n",
        "  try:\n",
        "    tags.append(v['items'][0]['snippet']['tags'])\n",
        "  except KeyError:\n",
        "    tags.append([''])\n",
        "  views.append(v['items'][0]['statistics']['viewCount'])\n",
        "  try:\n",
        "    comments.append(v['items'][0]['statistics']['commentCount'])\n",
        "  except KeyError:\n",
        "    comments.append('')\n",
        "  try:\n",
        "    likes.append(v['items'][0]['statistics']['likeCount'])\n",
        "  except KeyError:\n",
        "    likes.append('')\n",
        "  try:\n",
        "    dislikes.append(v['items'][0]['statistics']['dislikeCount'])\n",
        "  except:\n",
        "    dislikes.append('')\n",
        "  thumbnails.append(v['items'][0]['snippet']['thumbnails'])\n",
        "\n",
        "    "
      ],
      "execution_count": 3,
      "outputs": []
    },
    {
      "cell_type": "markdown",
      "metadata": {
        "id": "mx5dUa7tSh58"
      },
      "source": [
        "### Splitting time stamp into date and time"
      ]
    },
    {
      "cell_type": "code",
      "metadata": {
        "id": "XWBz9bdMM8tA"
      },
      "source": [
        "videodate=[]\n",
        "videotime=[]\n",
        "for t in time:\n",
        "  spl=t.split('T')\n",
        "  date=spl[0]\n",
        "  ti=spl[1].split('Z')[0]\n",
        "  videodate.append(date)\n",
        "  videotime.append(ti)\n",
        "\n",
        "  "
      ],
      "execution_count": 5,
      "outputs": []
    },
    {
      "cell_type": "code",
      "metadata": {
        "id": "I4LnlEy9VWsU"
      },
      "source": [
        "import pandas as pd\n",
        "df=pd.DataFrame()\n"
      ],
      "execution_count": 6,
      "outputs": []
    },
    {
      "cell_type": "code",
      "metadata": {
        "id": "5wFpa-XyJxoS"
      },
      "source": [
        "df[\"title\"]=title\n",
        "df[\"views\"]=views\n",
        "df[\"duration\"]=duration\n",
        "df[\"id\"]=id\n",
        "df[\"time\"]=videotime\n",
        "df[\"tags\"]=tags\n",
        "df[\"likes\"]=likes\n",
        "df[\"dislikes\"]=dislikes\n",
        "df[\"comments\"]=comments\n",
        "df[\"description\"]=description\n",
        "df[\"date\"]=videodate\n",
        "df[\"thumbnails\"]=thumbnails"
      ],
      "execution_count": 7,
      "outputs": []
    },
    {
      "cell_type": "markdown",
      "metadata": {
        "id": "_60DEZ4yaUr2"
      },
      "source": [
        "### Top 3 Videos every year"
      ]
    },
    {
      "cell_type": "code",
      "metadata": {
        "id": "74b2_hx-ZGcH"
      },
      "source": [
        "df['date'] = pd.to_datetime(df['date'],format='%Y-%m-%d') "
      ],
      "execution_count": 51,
      "outputs": []
    },
    {
      "cell_type": "code",
      "metadata": {
        "id": "-MbKKRV1vujw"
      },
      "source": [
        "df[\"views\"]=df[\"views\"].astype(int)"
      ],
      "execution_count": 133,
      "outputs": []
    },
    {
      "cell_type": "code",
      "metadata": {
        "id": "VQB5kkzOezCQ"
      },
      "source": [
        "df_agg = df.groupby([df.date.dt.year]).apply(lambda x: x.sort_values(by=[\"views\"],ascending=False).head(3))"
      ],
      "execution_count": 134,
      "outputs": []
    },
    {
      "cell_type": "code",
      "metadata": {
        "colab": {
          "base_uri": "https://localhost:8080/",
          "height": 1000
        },
        "id": "6ZBhxbWSrHbx",
        "outputId": "4dfa8052-d615-4e55-e713-b2c25d190ea6"
      },
      "source": [
        "df_agg"
      ],
      "execution_count": 135,
      "outputs": [
        {
          "output_type": "execute_result",
          "data": {
            "text/html": [
              "<div>\n",
              "<style scoped>\n",
              "    .dataframe tbody tr th:only-of-type {\n",
              "        vertical-align: middle;\n",
              "    }\n",
              "\n",
              "    .dataframe tbody tr th {\n",
              "        vertical-align: top;\n",
              "    }\n",
              "\n",
              "    .dataframe thead th {\n",
              "        text-align: right;\n",
              "    }\n",
              "</style>\n",
              "<table border=\"1\" class=\"dataframe\">\n",
              "  <thead>\n",
              "    <tr style=\"text-align: right;\">\n",
              "      <th></th>\n",
              "      <th></th>\n",
              "      <th>title</th>\n",
              "      <th>views</th>\n",
              "      <th>duration</th>\n",
              "      <th>id</th>\n",
              "      <th>time</th>\n",
              "      <th>tags</th>\n",
              "      <th>likes</th>\n",
              "      <th>dislikes</th>\n",
              "      <th>comments</th>\n",
              "      <th>description</th>\n",
              "      <th>date</th>\n",
              "      <th>thumbnails</th>\n",
              "    </tr>\n",
              "    <tr>\n",
              "      <th>date</th>\n",
              "      <th></th>\n",
              "      <th></th>\n",
              "      <th></th>\n",
              "      <th></th>\n",
              "      <th></th>\n",
              "      <th></th>\n",
              "      <th></th>\n",
              "      <th></th>\n",
              "      <th></th>\n",
              "      <th></th>\n",
              "      <th></th>\n",
              "      <th></th>\n",
              "      <th></th>\n",
              "    </tr>\n",
              "  </thead>\n",
              "  <tbody>\n",
              "    <tr>\n",
              "      <th rowspan=\"3\" valign=\"top\">2016</th>\n",
              "      <th>1282</th>\n",
              "      <td>Diwali with Netflix | Ad-free and Uninterrupted</td>\n",
              "      <td>4004264</td>\n",
              "      <td>PT35S</td>\n",
              "      <td>cD9dNe7ghPs</td>\n",
              "      <td>04:36:38</td>\n",
              "      <td>[Netflix, Ad free, The Crown, Claire Foy, Matt...</td>\n",
              "      <td>3363</td>\n",
              "      <td>2330</td>\n",
              "      <td>512</td>\n",
              "      <td>With celebrations all around, all we want you ...</td>\n",
              "      <td>2016-10-28</td>\n",
              "      <td>{'default': {'url': 'https://i.ytimg.com/vi/cD...</td>\n",
              "    </tr>\n",
              "    <tr>\n",
              "      <th>1285</th>\n",
              "      <td>Diwali on Netflix Feat. Anurag Kashyap</td>\n",
              "      <td>3548705</td>\n",
              "      <td>PT1M</td>\n",
              "      <td>SiJnwkEmm_A</td>\n",
              "      <td>02:35:29</td>\n",
              "      <td>[Diwali, Anurag Kashyap, Festivals, Fun, Ads, ...</td>\n",
              "      <td>4569</td>\n",
              "      <td>2913</td>\n",
              "      <td>604</td>\n",
              "      <td>Diwali is the time to celebrate, so instead of...</td>\n",
              "      <td>2016-10-27</td>\n",
              "      <td>{'default': {'url': 'https://i.ytimg.com/vi/Si...</td>\n",
              "    </tr>\n",
              "    <tr>\n",
              "      <th>1293</th>\n",
              "      <td>Netflix | Hooked feat. Tanmay Bhatt</td>\n",
              "      <td>402973</td>\n",
              "      <td>PT2M8S</td>\n",
              "      <td>STcP5RYOJOQ</td>\n",
              "      <td>05:01:19</td>\n",
              "      <td>[Tanmay Bhatt, Tanmay Bhat, Netflix, Online St...</td>\n",
              "      <td>7108</td>\n",
              "      <td>285</td>\n",
              "      <td>165</td>\n",
              "      <td>Tanmay Bhatt tells you how he got #Hooked.</td>\n",
              "      <td>2016-09-22</td>\n",
              "      <td>{'default': {'url': 'https://i.ytimg.com/vi/ST...</td>\n",
              "    </tr>\n",
              "    <tr>\n",
              "      <th rowspan=\"3\" valign=\"top\">2017</th>\n",
              "      <th>1272</th>\n",
              "      <td>Marvel's Iron Fist | The Final Defender Has Ar...</td>\n",
              "      <td>5708907</td>\n",
              "      <td>PT31S</td>\n",
              "      <td>vCmuJTDAv3A</td>\n",
              "      <td>02:09:56</td>\n",
              "      <td>[Netflix, Marvel, Marvel's Iron Fist, Iron Fis...</td>\n",
              "      <td>5785</td>\n",
              "      <td>3237</td>\n",
              "      <td>605</td>\n",
              "      <td>Meet the final Defender. Marvel's Iron Fist, a...</td>\n",
              "      <td>2017-03-06</td>\n",
              "      <td>{'default': {'url': 'https://i.ytimg.com/vi/vC...</td>\n",
              "    </tr>\n",
              "    <tr>\n",
              "      <th>1245</th>\n",
              "      <td>Dynasty | Official Trailer [HD] | Netflix</td>\n",
              "      <td>2411540</td>\n",
              "      <td>PT3M44S</td>\n",
              "      <td>Uq0soWMpkv8</td>\n",
              "      <td>08:00:38</td>\n",
              "      <td>[dynasty]</td>\n",
              "      <td>21960</td>\n",
              "      <td>976</td>\n",
              "      <td>1032</td>\n",
              "      <td>Fallon Carrington is charismatic, cunning, and...</td>\n",
              "      <td>2017-09-26</td>\n",
              "      <td>{'default': {'url': 'https://i.ytimg.com/vi/Uq...</td>\n",
              "    </tr>\n",
              "    <tr>\n",
              "      <th>1276</th>\n",
              "      <td>Serial Cheaters feat Sumeet &amp; Nidhi | Netflix</td>\n",
              "      <td>2111828</td>\n",
              "      <td>PT1M32S</td>\n",
              "      <td>ioXXEm7_mmY</td>\n",
              "      <td>23:58:56</td>\n",
              "      <td>[Sumeet Vyas, Nidhi Singh, TV, TVF, Netflix, C...</td>\n",
              "      <td>19249</td>\n",
              "      <td>725</td>\n",
              "      <td>298</td>\n",
              "      <td>Sumeet Vyas and Nidhi Singh find cheating isn'...</td>\n",
              "      <td>2017-02-13</td>\n",
              "      <td>{'default': {'url': 'https://i.ytimg.com/vi/io...</td>\n",
              "    </tr>\n",
              "    <tr>\n",
              "      <th rowspan=\"3\" valign=\"top\">2018</th>\n",
              "      <th>1107</th>\n",
              "      <td>Netflix India’s BEST OF 2018</td>\n",
              "      <td>25347757</td>\n",
              "      <td>PT3M49S</td>\n",
              "      <td>0Lws4pg_7jQ</td>\n",
              "      <td>07:31:49</td>\n",
              "      <td>[Anil Kapoor, Jatin Sarna, Vicky Kaushal, Radh...</td>\n",
              "      <td>58246</td>\n",
              "      <td>23527</td>\n",
              "      <td>2410</td>\n",
              "      <td>Need a crash course recap of the year that was...</td>\n",
              "      <td>2018-12-30</td>\n",
              "      <td>{'default': {'url': 'https://i.ytimg.com/vi/0L...</td>\n",
              "    </tr>\n",
              "    <tr>\n",
              "      <th>1225</th>\n",
              "      <td>Heating Up | Netflix</td>\n",
              "      <td>23898407</td>\n",
              "      <td>PT31S</td>\n",
              "      <td>asxx8fnzjBQ</td>\n",
              "      <td>07:10:31</td>\n",
              "      <td>[]</td>\n",
              "      <td>26713</td>\n",
              "      <td>21522</td>\n",
              "      <td>2592</td>\n",
              "      <td>All the hottest stories. Anytime, anywhere. Wa...</td>\n",
              "      <td>2018-04-02</td>\n",
              "      <td>{'default': {'url': 'https://i.ytimg.com/vi/as...</td>\n",
              "    </tr>\n",
              "    <tr>\n",
              "      <th>1190</th>\n",
              "      <td>Ghoul - Silent Trailer I Netflix I HD</td>\n",
              "      <td>18503949</td>\n",
              "      <td>PT1M</td>\n",
              "      <td>Kwqayc6tDPY</td>\n",
              "      <td>06:58:10</td>\n",
              "      <td>[]</td>\n",
              "      <td>40550</td>\n",
              "      <td>21401</td>\n",
              "      <td>2547</td>\n",
              "      <td>What you hunt, will haunt you! Ghoul coming soon.</td>\n",
              "      <td>2018-08-03</td>\n",
              "      <td>{'default': {'url': 'https://i.ytimg.com/vi/Kw...</td>\n",
              "    </tr>\n",
              "    <tr>\n",
              "      <th rowspan=\"3\" valign=\"top\">2019</th>\n",
              "      <th>1029</th>\n",
              "      <td>Mighty Little Bheem | Bheem with a Beat | Netf...</td>\n",
              "      <td>518974900</td>\n",
              "      <td>PT3M16S</td>\n",
              "      <td>U15sCqscZAk</td>\n",
              "      <td>13:45:42</td>\n",
              "      <td>[Adventure, Indian, videos, animated shows on ...</td>\n",
              "      <td>1764799</td>\n",
              "      <td>1283591</td>\n",
              "      <td>0</td>\n",
              "      <td>Mighty Little Bheem has all the animals in the...</td>\n",
              "      <td>2019-04-24</td>\n",
              "      <td>{'default': {'url': 'https://i.ytimg.com/vi/U1...</td>\n",
              "    </tr>\n",
              "    <tr>\n",
              "      <th>1022</th>\n",
              "      <td>Mighty Little Bheem | Flower Adventure | Netfl...</td>\n",
              "      <td>71500820</td>\n",
              "      <td>PT4M14S</td>\n",
              "      <td>Q_SbTdYjgfk</td>\n",
              "      <td>07:57:31</td>\n",
              "      <td>[Kids, kids series, netflix india orignals, vi...</td>\n",
              "      <td>241288</td>\n",
              "      <td>138817</td>\n",
              "      <td>0</td>\n",
              "      <td>The big bad lion is on the prowl, but Mighty L...</td>\n",
              "      <td>2019-05-03</td>\n",
              "      <td>{'default': {'url': 'https://i.ytimg.com/vi/Q_...</td>\n",
              "    </tr>\n",
              "    <tr>\n",
              "      <th>1039</th>\n",
              "      <td>Mighty Little Bheem | Official Trailer | Netflix</td>\n",
              "      <td>39474152</td>\n",
              "      <td>PT1M1S</td>\n",
              "      <td>4qXoR6MrVwg</td>\n",
              "      <td>10:42:54</td>\n",
              "      <td>[comedy videos, funny videos, trailer, cartoon...</td>\n",
              "      <td>112972</td>\n",
              "      <td>50331</td>\n",
              "      <td>0</td>\n",
              "      <td>He's just a little baby, but he's already the ...</td>\n",
              "      <td>2019-04-24</td>\n",
              "      <td>{'default': {'url': 'https://i.ytimg.com/vi/4q...</td>\n",
              "    </tr>\n",
              "    <tr>\n",
              "      <th rowspan=\"3\" valign=\"top\">2020</th>\n",
              "      <th>558</th>\n",
              "      <td>Bella Ciao Full Song | La Casa De Papel | Mone...</td>\n",
              "      <td>39747309</td>\n",
              "      <td>PT2M38S</td>\n",
              "      <td>46cXFUzR9XM</td>\n",
              "      <td>10:30:00</td>\n",
              "      <td>[netflix india, netflix, netflix shows, bella ...</td>\n",
              "      <td>757721</td>\n",
              "      <td>18470</td>\n",
              "      <td>18254</td>\n",
              "      <td>We never want to say Bella Ciao to this song.\\...</td>\n",
              "      <td>2020-03-24</td>\n",
              "      <td>{'default': {'url': 'https://i.ytimg.com/vi/46...</td>\n",
              "    </tr>\n",
              "    <tr>\n",
              "      <th>589</th>\n",
              "      <td>Allu Arjun Boardroom Dance Scene | Ala Vaikunt...</td>\n",
              "      <td>24940706</td>\n",
              "      <td>PT2M27S</td>\n",
              "      <td>GlmK1jzlK8I</td>\n",
              "      <td>12:30:00</td>\n",
              "      <td>[netflix india, netflix, south movie, telugu m...</td>\n",
              "      <td>186385</td>\n",
              "      <td>17610</td>\n",
              "      <td>3209</td>\n",
              "      <td>Who can teach style better than the Style King...</td>\n",
              "      <td>2020-03-04</td>\n",
              "      <td>{'default': {'url': 'https://i.ytimg.com/vi/Gl...</td>\n",
              "    </tr>\n",
              "    <tr>\n",
              "      <th>550</th>\n",
              "      <td>Allu Arjun Fight Scene | Ala Vaikunthapurramlo...</td>\n",
              "      <td>12999053</td>\n",
              "      <td>PT1M52S</td>\n",
              "      <td>TNnqobZlPbk</td>\n",
              "      <td>10:30:01</td>\n",
              "      <td>[netflix india, netflix, south movie, telugu m...</td>\n",
              "      <td>123704</td>\n",
              "      <td>8760</td>\n",
              "      <td>2804</td>\n",
              "      <td>Have you seen action and style together before...</td>\n",
              "      <td>2020-03-29</td>\n",
              "      <td>{'default': {'url': 'https://i.ytimg.com/vi/TN...</td>\n",
              "    </tr>\n",
              "    <tr>\n",
              "      <th rowspan=\"3\" valign=\"top\">2021</th>\n",
              "      <th>13</th>\n",
              "      <td>Tribhanga | Official Trailer | Kajol, Mithila ...</td>\n",
              "      <td>2437792</td>\n",
              "      <td>PT2M</td>\n",
              "      <td>zVNmHMWv2mc</td>\n",
              "      <td>05:30:01</td>\n",
              "      <td>[Mother &amp; Daughter Relationships, Women's Soci...</td>\n",
              "      <td>58328</td>\n",
              "      <td>2458</td>\n",
              "      <td>1454</td>\n",
              "      <td>KAJOL AND MITHILA IN THE SAME FILM? 2021 ALREA...</td>\n",
              "      <td>2021-01-04</td>\n",
              "      <td>{'default': {'url': 'https://i.ytimg.com/vi/zV...</td>\n",
              "    </tr>\n",
              "    <tr>\n",
              "      <th>15</th>\n",
              "      <td>Allu Arjun Police Station Fight Scene | Ala Va...</td>\n",
              "      <td>2404494</td>\n",
              "      <td>PT3M4S</td>\n",
              "      <td>x77COWSWnuA</td>\n",
              "      <td>05:30:05</td>\n",
              "      <td>[allu arjun, allu arjun fight scene, netflix i...</td>\n",
              "      <td>42805</td>\n",
              "      <td>1578</td>\n",
              "      <td>1327</td>\n",
              "      <td>Guilty of loving him too much. 🥰\\n\\nWatch Allu...</td>\n",
              "      <td>2021-01-03</td>\n",
              "      <td>{'default': {'url': 'https://i.ytimg.com/vi/x7...</td>\n",
              "    </tr>\n",
              "    <tr>\n",
              "      <th>11</th>\n",
              "      <td>@Kapil Sharma's Very Official Announcement | N...</td>\n",
              "      <td>1430422</td>\n",
              "      <td>PT1M13S</td>\n",
              "      <td>PDmdhZ7bhGI</td>\n",
              "      <td>05:30:06</td>\n",
              "      <td>[netflix india, netflix, netflix shows, kapil ...</td>\n",
              "      <td>75840</td>\n",
              "      <td>2154</td>\n",
              "      <td>1598</td>\n",
              "      <td>We can only confirm two things:\\n✔️Kapil Sharm...</td>\n",
              "      <td>2021-01-05</td>\n",
              "      <td>{'default': {'url': 'https://i.ytimg.com/vi/PD...</td>\n",
              "    </tr>\n",
              "  </tbody>\n",
              "</table>\n",
              "</div>"
            ],
            "text/plain": [
              "                                                       title  ...                                         thumbnails\n",
              "date                                                          ...                                                   \n",
              "2016 1282    Diwali with Netflix | Ad-free and Uninterrupted  ...  {'default': {'url': 'https://i.ytimg.com/vi/cD...\n",
              "     1285             Diwali on Netflix Feat. Anurag Kashyap  ...  {'default': {'url': 'https://i.ytimg.com/vi/Si...\n",
              "     1293                Netflix | Hooked feat. Tanmay Bhatt  ...  {'default': {'url': 'https://i.ytimg.com/vi/ST...\n",
              "2017 1272  Marvel's Iron Fist | The Final Defender Has Ar...  ...  {'default': {'url': 'https://i.ytimg.com/vi/vC...\n",
              "     1245          Dynasty | Official Trailer [HD] | Netflix  ...  {'default': {'url': 'https://i.ytimg.com/vi/Uq...\n",
              "     1276      Serial Cheaters feat Sumeet & Nidhi | Netflix  ...  {'default': {'url': 'https://i.ytimg.com/vi/io...\n",
              "2018 1107                       Netflix India’s BEST OF 2018  ...  {'default': {'url': 'https://i.ytimg.com/vi/0L...\n",
              "     1225                               Heating Up | Netflix  ...  {'default': {'url': 'https://i.ytimg.com/vi/as...\n",
              "     1190              Ghoul - Silent Trailer I Netflix I HD  ...  {'default': {'url': 'https://i.ytimg.com/vi/Kw...\n",
              "2019 1029  Mighty Little Bheem | Bheem with a Beat | Netf...  ...  {'default': {'url': 'https://i.ytimg.com/vi/U1...\n",
              "     1022  Mighty Little Bheem | Flower Adventure | Netfl...  ...  {'default': {'url': 'https://i.ytimg.com/vi/Q_...\n",
              "     1039   Mighty Little Bheem | Official Trailer | Netflix  ...  {'default': {'url': 'https://i.ytimg.com/vi/4q...\n",
              "2020 558   Bella Ciao Full Song | La Casa De Papel | Mone...  ...  {'default': {'url': 'https://i.ytimg.com/vi/46...\n",
              "     589   Allu Arjun Boardroom Dance Scene | Ala Vaikunt...  ...  {'default': {'url': 'https://i.ytimg.com/vi/Gl...\n",
              "     550   Allu Arjun Fight Scene | Ala Vaikunthapurramlo...  ...  {'default': {'url': 'https://i.ytimg.com/vi/TN...\n",
              "2021 13    Tribhanga | Official Trailer | Kajol, Mithila ...  ...  {'default': {'url': 'https://i.ytimg.com/vi/zV...\n",
              "     15    Allu Arjun Police Station Fight Scene | Ala Va...  ...  {'default': {'url': 'https://i.ytimg.com/vi/x7...\n",
              "     11    @Kapil Sharma's Very Official Announcement | N...  ...  {'default': {'url': 'https://i.ytimg.com/vi/PD...\n",
              "\n",
              "[18 rows x 12 columns]"
            ]
          },
          "metadata": {
            "tags": []
          },
          "execution_count": 135
        }
      ]
    },
    {
      "cell_type": "code",
      "metadata": {
        "id": "6c5rksV01S85"
      },
      "source": [
        "df_agg.to_csv(\"top3.csv\")"
      ],
      "execution_count": 136,
      "outputs": []
    },
    {
      "cell_type": "markdown",
      "metadata": {
        "id": "U2-4vqB_xev6"
      },
      "source": [
        "## Some Insights"
      ]
    },
    {
      "cell_type": "markdown",
      "metadata": {
        "id": "QbCfuW2j1mY-"
      },
      "source": [
        "### Creators/Guests generating the most views/videos"
      ]
    },
    {
      "cell_type": "code",
      "metadata": {
        "id": "xdW6E0Vo1lV-"
      },
      "source": [
        "import regex as re\n",
        "#Creating a list of creators\n",
        "creators=[]\n",
        "for i in range(0,1310):\n",
        "  if '@' in title[i]:\n",
        "    l=re.findall(\"(?<![@\\w])@(\\w{1,25} (\\w*))\",title[i])\n",
        "    for names in l:\n",
        "      print(names)\n",
        "      if names[0] not in creators:\n",
        "        creators.append(names[0])\n",
        "  "
      ],
      "execution_count": null,
      "outputs": []
    },
    {
      "cell_type": "markdown",
      "metadata": {
        "id": "oDnCkwQjG-EZ"
      },
      "source": [
        "#### List needs to be cleaned"
      ]
    },
    {
      "cell_type": "code",
      "metadata": {
        "id": "X43J2zJmHIs5"
      },
      "source": [
        "creatorscleaned=[\"MostlySane\",\"MyMissAnand\",\"MortaL\",'Xyaa','Mythpat','DIVINE']\n",
        "for c in creators:\n",
        "  if c.split(' ')[0] not in creatorscleaned:\n",
        "    creatorscleaned.append(c)"
      ],
      "execution_count": 206,
      "outputs": []
    },
    {
      "cell_type": "code",
      "metadata": {
        "id": "nB1MKfdeIjaP"
      },
      "source": [
        "missedcreators=[\"Srishti Dixit\",'Menu Please','Abish']\n",
        "creators=creatorscleaned+missedcreators\n",
        "creators.remove(\"Alia Bhatt\")"
      ],
      "execution_count": 224,
      "outputs": []
    },
    {
      "cell_type": "code",
      "metadata": {
        "id": "V7fHc0S1NyzO"
      },
      "source": [
        "ratio=[]\n",
        "totalcount=[]\n",
        "totalview=[]\n",
        "for c in creators:\n",
        "  count=0\n",
        "  totalviews=0\n",
        "  for i in range(0,1310):\n",
        "    v=int(views[i])\n",
        "    t=title[i]\n",
        "    if c in t:\n",
        "      count=count+1\n",
        "      totalviews+=v\n",
        "  try:\n",
        "    ratio.append(totalviews/count)\n",
        "    totalview.append(totalviews)\n",
        "    totalcount.append(count)\n",
        "  except ZeroDivisionError:\n",
        "    ratio.append(0)\n"
      ],
      "execution_count": 228,
      "outputs": []
    },
    {
      "cell_type": "code",
      "metadata": {
        "id": "nnXoz-JoQx6S"
      },
      "source": [
        "creator_performance=pd.DataFrame()\n",
        "creator_performance[\"creator\"]=creators\n",
        "creator_performance[\"total views\"]=totalview\n",
        "creator_performance[\"video count\"]=totalcount\n",
        "creator_performance[\"views/video\"]=ratio"
      ],
      "execution_count": 231,
      "outputs": []
    },
    {
      "cell_type": "code",
      "metadata": {
        "colab": {
          "base_uri": "https://localhost:8080/",
          "height": 1000
        },
        "id": "4arkJrJlQykm",
        "outputId": "bfca3979-2d09-4352-bd62-c72e6379ed83"
      },
      "source": [
        "creator_performance.sort_values(by=\"views/video\")"
      ],
      "execution_count": 233,
      "outputs": [
        {
          "output_type": "execute_result",
          "data": {
            "text/html": [
              "<div>\n",
              "<style scoped>\n",
              "    .dataframe tbody tr th:only-of-type {\n",
              "        vertical-align: middle;\n",
              "    }\n",
              "\n",
              "    .dataframe tbody tr th {\n",
              "        vertical-align: top;\n",
              "    }\n",
              "\n",
              "    .dataframe thead th {\n",
              "        text-align: right;\n",
              "    }\n",
              "</style>\n",
              "<table border=\"1\" class=\"dataframe\">\n",
              "  <thead>\n",
              "    <tr style=\"text-align: right;\">\n",
              "      <th></th>\n",
              "      <th>creator</th>\n",
              "      <th>total views</th>\n",
              "      <th>video count</th>\n",
              "      <th>views/video</th>\n",
              "    </tr>\n",
              "  </thead>\n",
              "  <tbody>\n",
              "    <tr>\n",
              "      <th>47</th>\n",
              "      <td>Ankur Kashyap</td>\n",
              "      <td>39045</td>\n",
              "      <td>1</td>\n",
              "      <td>3.904500e+04</td>\n",
              "    </tr>\n",
              "    <tr>\n",
              "      <th>50</th>\n",
              "      <td>Be YouNick</td>\n",
              "      <td>41440</td>\n",
              "      <td>1</td>\n",
              "      <td>4.144000e+04</td>\n",
              "    </tr>\n",
              "    <tr>\n",
              "      <th>41</th>\n",
              "      <td>Melvin Louis</td>\n",
              "      <td>44534</td>\n",
              "      <td>1</td>\n",
              "      <td>4.453400e+04</td>\n",
              "    </tr>\n",
              "    <tr>\n",
              "      <th>5</th>\n",
              "      <td>DIVINE</td>\n",
              "      <td>66847</td>\n",
              "      <td>1</td>\n",
              "      <td>6.684700e+04</td>\n",
              "    </tr>\n",
              "    <tr>\n",
              "      <th>14</th>\n",
              "      <td>Anshuman Sharma</td>\n",
              "      <td>104295</td>\n",
              "      <td>1</td>\n",
              "      <td>1.042950e+05</td>\n",
              "    </tr>\n",
              "    <tr>\n",
              "      <th>44</th>\n",
              "      <td>Tadpatri Talkies</td>\n",
              "      <td>108245</td>\n",
              "      <td>1</td>\n",
              "      <td>1.082450e+05</td>\n",
              "    </tr>\n",
              "    <tr>\n",
              "      <th>30</th>\n",
              "      <td>BeerBiceps</td>\n",
              "      <td>383177</td>\n",
              "      <td>3</td>\n",
              "      <td>1.277257e+05</td>\n",
              "    </tr>\n",
              "    <tr>\n",
              "      <th>45</th>\n",
              "      <td>Sucharita Tyagi</td>\n",
              "      <td>144403</td>\n",
              "      <td>1</td>\n",
              "      <td>1.444030e+05</td>\n",
              "    </tr>\n",
              "    <tr>\n",
              "      <th>48</th>\n",
              "      <td>Khooni Monday</td>\n",
              "      <td>166026</td>\n",
              "      <td>1</td>\n",
              "      <td>1.660260e+05</td>\n",
              "    </tr>\n",
              "    <tr>\n",
              "      <th>20</th>\n",
              "      <td>Varun Thakur</td>\n",
              "      <td>1058927</td>\n",
              "      <td>5</td>\n",
              "      <td>2.117854e+05</td>\n",
              "    </tr>\n",
              "    <tr>\n",
              "      <th>31</th>\n",
              "      <td>Barkha Singh</td>\n",
              "      <td>2033029</td>\n",
              "      <td>9</td>\n",
              "      <td>2.258921e+05</td>\n",
              "    </tr>\n",
              "    <tr>\n",
              "      <th>32</th>\n",
              "      <td>Varun Grover</td>\n",
              "      <td>236001</td>\n",
              "      <td>1</td>\n",
              "      <td>2.360010e+05</td>\n",
              "    </tr>\n",
              "    <tr>\n",
              "      <th>3</th>\n",
              "      <td>Xyaa</td>\n",
              "      <td>552672</td>\n",
              "      <td>2</td>\n",
              "      <td>2.763360e+05</td>\n",
              "    </tr>\n",
              "    <tr>\n",
              "      <th>40</th>\n",
              "      <td>The Trinetra</td>\n",
              "      <td>314848</td>\n",
              "      <td>1</td>\n",
              "      <td>3.148480e+05</td>\n",
              "    </tr>\n",
              "    <tr>\n",
              "      <th>55</th>\n",
              "      <td>Menu Please</td>\n",
              "      <td>11084142</td>\n",
              "      <td>29</td>\n",
              "      <td>3.822118e+05</td>\n",
              "    </tr>\n",
              "    <tr>\n",
              "      <th>2</th>\n",
              "      <td>MortaL</td>\n",
              "      <td>1153464</td>\n",
              "      <td>3</td>\n",
              "      <td>3.844880e+05</td>\n",
              "    </tr>\n",
              "    <tr>\n",
              "      <th>23</th>\n",
              "      <td>OK Tested</td>\n",
              "      <td>1183961</td>\n",
              "      <td>3</td>\n",
              "      <td>3.946537e+05</td>\n",
              "    </tr>\n",
              "    <tr>\n",
              "      <th>9</th>\n",
              "      <td>Dolly Singh</td>\n",
              "      <td>6041812</td>\n",
              "      <td>15</td>\n",
              "      <td>4.027875e+05</td>\n",
              "    </tr>\n",
              "    <tr>\n",
              "      <th>38</th>\n",
              "      <td>Radhika Bangia</td>\n",
              "      <td>403167</td>\n",
              "      <td>1</td>\n",
              "      <td>4.031670e+05</td>\n",
              "    </tr>\n",
              "    <tr>\n",
              "      <th>37</th>\n",
              "      <td>Sejal Kumar</td>\n",
              "      <td>403167</td>\n",
              "      <td>1</td>\n",
              "      <td>4.031670e+05</td>\n",
              "    </tr>\n",
              "    <tr>\n",
              "      <th>0</th>\n",
              "      <td>MostlySane</td>\n",
              "      <td>3306297</td>\n",
              "      <td>8</td>\n",
              "      <td>4.132871e+05</td>\n",
              "    </tr>\n",
              "    <tr>\n",
              "      <th>11</th>\n",
              "      <td>Niharika Nm</td>\n",
              "      <td>418389</td>\n",
              "      <td>1</td>\n",
              "      <td>4.183890e+05</td>\n",
              "    </tr>\n",
              "    <tr>\n",
              "      <th>56</th>\n",
              "      <td>Abish</td>\n",
              "      <td>5445511</td>\n",
              "      <td>13</td>\n",
              "      <td>4.188855e+05</td>\n",
              "    </tr>\n",
              "    <tr>\n",
              "      <th>28</th>\n",
              "      <td>Dhruv Rathee</td>\n",
              "      <td>5482907</td>\n",
              "      <td>13</td>\n",
              "      <td>4.217621e+05</td>\n",
              "    </tr>\n",
              "    <tr>\n",
              "      <th>27</th>\n",
              "      <td>Jasleen Royal</td>\n",
              "      <td>427917</td>\n",
              "      <td>1</td>\n",
              "      <td>4.279170e+05</td>\n",
              "    </tr>\n",
              "    <tr>\n",
              "      <th>54</th>\n",
              "      <td>Srishti Dixit</td>\n",
              "      <td>21092500</td>\n",
              "      <td>48</td>\n",
              "      <td>4.394271e+05</td>\n",
              "    </tr>\n",
              "    <tr>\n",
              "      <th>19</th>\n",
              "      <td>Kaneez Surka</td>\n",
              "      <td>2402880</td>\n",
              "      <td>5</td>\n",
              "      <td>4.805760e+05</td>\n",
              "    </tr>\n",
              "    <tr>\n",
              "      <th>29</th>\n",
              "      <td>The Motor</td>\n",
              "      <td>486022</td>\n",
              "      <td>1</td>\n",
              "      <td>4.860220e+05</td>\n",
              "    </tr>\n",
              "    <tr>\n",
              "      <th>49</th>\n",
              "      <td>Rajeev Masand</td>\n",
              "      <td>499850</td>\n",
              "      <td>1</td>\n",
              "      <td>4.998500e+05</td>\n",
              "    </tr>\n",
              "    <tr>\n",
              "      <th>17</th>\n",
              "      <td>Vir Das</td>\n",
              "      <td>7586349</td>\n",
              "      <td>15</td>\n",
              "      <td>5.057566e+05</td>\n",
              "    </tr>\n",
              "    <tr>\n",
              "      <th>16</th>\n",
              "      <td>Kusha Kapila</td>\n",
              "      <td>30135023</td>\n",
              "      <td>58</td>\n",
              "      <td>5.195694e+05</td>\n",
              "    </tr>\n",
              "    <tr>\n",
              "      <th>51</th>\n",
              "      <td>Kanan Gill</td>\n",
              "      <td>7281556</td>\n",
              "      <td>14</td>\n",
              "      <td>5.201111e+05</td>\n",
              "    </tr>\n",
              "    <tr>\n",
              "      <th>46</th>\n",
              "      <td>Jordindian Cook</td>\n",
              "      <td>551444</td>\n",
              "      <td>1</td>\n",
              "      <td>5.514440e+05</td>\n",
              "    </tr>\n",
              "    <tr>\n",
              "      <th>43</th>\n",
              "      <td>Dulquer Salmaan</td>\n",
              "      <td>2275255</td>\n",
              "      <td>4</td>\n",
              "      <td>5.688138e+05</td>\n",
              "    </tr>\n",
              "    <tr>\n",
              "      <th>24</th>\n",
              "      <td>Pearle Maaney</td>\n",
              "      <td>1199934</td>\n",
              "      <td>2</td>\n",
              "      <td>5.999670e+05</td>\n",
              "    </tr>\n",
              "    <tr>\n",
              "      <th>15</th>\n",
              "      <td>Anubhav Singh</td>\n",
              "      <td>612995</td>\n",
              "      <td>1</td>\n",
              "      <td>6.129950e+05</td>\n",
              "    </tr>\n",
              "    <tr>\n",
              "      <th>52</th>\n",
              "      <td>Yahya Bootwala</td>\n",
              "      <td>622567</td>\n",
              "      <td>1</td>\n",
              "      <td>6.225670e+05</td>\n",
              "    </tr>\n",
              "    <tr>\n",
              "      <th>13</th>\n",
              "      <td>Rohan Joshi</td>\n",
              "      <td>4695589</td>\n",
              "      <td>7</td>\n",
              "      <td>6.707984e+05</td>\n",
              "    </tr>\n",
              "    <tr>\n",
              "      <th>25</th>\n",
              "      <td>Kenny Sebastian</td>\n",
              "      <td>6288293</td>\n",
              "      <td>9</td>\n",
              "      <td>6.986992e+05</td>\n",
              "    </tr>\n",
              "    <tr>\n",
              "      <th>6</th>\n",
              "      <td>Tanmay Bhat</td>\n",
              "      <td>20249395</td>\n",
              "      <td>28</td>\n",
              "      <td>7.231927e+05</td>\n",
              "    </tr>\n",
              "    <tr>\n",
              "      <th>26</th>\n",
              "      <td>Prateek Kuhad</td>\n",
              "      <td>2187727</td>\n",
              "      <td>3</td>\n",
              "      <td>7.292423e+05</td>\n",
              "    </tr>\n",
              "    <tr>\n",
              "      <th>10</th>\n",
              "      <td>Samay Raina</td>\n",
              "      <td>2824996</td>\n",
              "      <td>3</td>\n",
              "      <td>9.416653e+05</td>\n",
              "    </tr>\n",
              "    <tr>\n",
              "      <th>22</th>\n",
              "      <td>Rannvijay Singha</td>\n",
              "      <td>3231063</td>\n",
              "      <td>3</td>\n",
              "      <td>1.077021e+06</td>\n",
              "    </tr>\n",
              "    <tr>\n",
              "      <th>53</th>\n",
              "      <td>Kunal Kamra</td>\n",
              "      <td>1158900</td>\n",
              "      <td>1</td>\n",
              "      <td>1.158900e+06</td>\n",
              "    </tr>\n",
              "    <tr>\n",
              "      <th>12</th>\n",
              "      <td>Triggered Insaan</td>\n",
              "      <td>4228272</td>\n",
              "      <td>3</td>\n",
              "      <td>1.409424e+06</td>\n",
              "    </tr>\n",
              "    <tr>\n",
              "      <th>7</th>\n",
              "      <td>Kapil Sharma</td>\n",
              "      <td>1430422</td>\n",
              "      <td>1</td>\n",
              "      <td>1.430422e+06</td>\n",
              "    </tr>\n",
              "    <tr>\n",
              "      <th>34</th>\n",
              "      <td>Suhani Shah</td>\n",
              "      <td>1520224</td>\n",
              "      <td>1</td>\n",
              "      <td>1.520224e+06</td>\n",
              "    </tr>\n",
              "    <tr>\n",
              "      <th>33</th>\n",
              "      <td>Techno Gamerz</td>\n",
              "      <td>1520224</td>\n",
              "      <td>1</td>\n",
              "      <td>1.520224e+06</td>\n",
              "    </tr>\n",
              "    <tr>\n",
              "      <th>1</th>\n",
              "      <td>MyMissAnand</td>\n",
              "      <td>3264814</td>\n",
              "      <td>2</td>\n",
              "      <td>1.632407e+06</td>\n",
              "    </tr>\n",
              "    <tr>\n",
              "      <th>8</th>\n",
              "      <td>Slayy Point</td>\n",
              "      <td>15658665</td>\n",
              "      <td>9</td>\n",
              "      <td>1.739852e+06</td>\n",
              "    </tr>\n",
              "    <tr>\n",
              "      <th>35</th>\n",
              "      <td>Flying Beast</td>\n",
              "      <td>1900469</td>\n",
              "      <td>1</td>\n",
              "      <td>1.900469e+06</td>\n",
              "    </tr>\n",
              "    <tr>\n",
              "      <th>42</th>\n",
              "      <td>Yashraj Mukhate</td>\n",
              "      <td>2139965</td>\n",
              "      <td>1</td>\n",
              "      <td>2.139965e+06</td>\n",
              "    </tr>\n",
              "    <tr>\n",
              "      <th>4</th>\n",
              "      <td>Mythpat</td>\n",
              "      <td>21415142</td>\n",
              "      <td>8</td>\n",
              "      <td>2.676893e+06</td>\n",
              "    </tr>\n",
              "    <tr>\n",
              "      <th>18</th>\n",
              "      <td>ashish chanchlani</td>\n",
              "      <td>15614720</td>\n",
              "      <td>5</td>\n",
              "      <td>3.122944e+06</td>\n",
              "    </tr>\n",
              "    <tr>\n",
              "      <th>39</th>\n",
              "      <td>Harsh Beniwal</td>\n",
              "      <td>3353987</td>\n",
              "      <td>1</td>\n",
              "      <td>3.353987e+06</td>\n",
              "    </tr>\n",
              "    <tr>\n",
              "      <th>36</th>\n",
              "      <td>Amit Bhadana</td>\n",
              "      <td>4004767</td>\n",
              "      <td>1</td>\n",
              "      <td>4.004767e+06</td>\n",
              "    </tr>\n",
              "    <tr>\n",
              "      <th>21</th>\n",
              "      <td>BB Ki</td>\n",
              "      <td>13588890</td>\n",
              "      <td>2</td>\n",
              "      <td>6.794445e+06</td>\n",
              "    </tr>\n",
              "  </tbody>\n",
              "</table>\n",
              "</div>"
            ],
            "text/plain": [
              "              creator  total views  video count   views/video\n",
              "47      Ankur Kashyap        39045            1  3.904500e+04\n",
              "50         Be YouNick        41440            1  4.144000e+04\n",
              "41       Melvin Louis        44534            1  4.453400e+04\n",
              "5              DIVINE        66847            1  6.684700e+04\n",
              "14    Anshuman Sharma       104295            1  1.042950e+05\n",
              "44   Tadpatri Talkies       108245            1  1.082450e+05\n",
              "30        BeerBiceps        383177            3  1.277257e+05\n",
              "45    Sucharita Tyagi       144403            1  1.444030e+05\n",
              "48      Khooni Monday       166026            1  1.660260e+05\n",
              "20       Varun Thakur      1058927            5  2.117854e+05\n",
              "31       Barkha Singh      2033029            9  2.258921e+05\n",
              "32       Varun Grover       236001            1  2.360010e+05\n",
              "3                Xyaa       552672            2  2.763360e+05\n",
              "40       The Trinetra       314848            1  3.148480e+05\n",
              "55        Menu Please     11084142           29  3.822118e+05\n",
              "2              MortaL      1153464            3  3.844880e+05\n",
              "23          OK Tested      1183961            3  3.946537e+05\n",
              "9         Dolly Singh      6041812           15  4.027875e+05\n",
              "38     Radhika Bangia       403167            1  4.031670e+05\n",
              "37        Sejal Kumar       403167            1  4.031670e+05\n",
              "0          MostlySane      3306297            8  4.132871e+05\n",
              "11        Niharika Nm       418389            1  4.183890e+05\n",
              "56              Abish      5445511           13  4.188855e+05\n",
              "28       Dhruv Rathee      5482907           13  4.217621e+05\n",
              "27      Jasleen Royal       427917            1  4.279170e+05\n",
              "54      Srishti Dixit     21092500           48  4.394271e+05\n",
              "19       Kaneez Surka      2402880            5  4.805760e+05\n",
              "29          The Motor       486022            1  4.860220e+05\n",
              "49      Rajeev Masand       499850            1  4.998500e+05\n",
              "17            Vir Das      7586349           15  5.057566e+05\n",
              "16       Kusha Kapila     30135023           58  5.195694e+05\n",
              "51         Kanan Gill      7281556           14  5.201111e+05\n",
              "46    Jordindian Cook       551444            1  5.514440e+05\n",
              "43    Dulquer Salmaan      2275255            4  5.688138e+05\n",
              "24      Pearle Maaney      1199934            2  5.999670e+05\n",
              "15      Anubhav Singh       612995            1  6.129950e+05\n",
              "52     Yahya Bootwala       622567            1  6.225670e+05\n",
              "13        Rohan Joshi      4695589            7  6.707984e+05\n",
              "25    Kenny Sebastian      6288293            9  6.986992e+05\n",
              "6         Tanmay Bhat     20249395           28  7.231927e+05\n",
              "26      Prateek Kuhad      2187727            3  7.292423e+05\n",
              "10        Samay Raina      2824996            3  9.416653e+05\n",
              "22   Rannvijay Singha      3231063            3  1.077021e+06\n",
              "53        Kunal Kamra      1158900            1  1.158900e+06\n",
              "12   Triggered Insaan      4228272            3  1.409424e+06\n",
              "7        Kapil Sharma      1430422            1  1.430422e+06\n",
              "34        Suhani Shah      1520224            1  1.520224e+06\n",
              "33      Techno Gamerz      1520224            1  1.520224e+06\n",
              "1         MyMissAnand      3264814            2  1.632407e+06\n",
              "8         Slayy Point     15658665            9  1.739852e+06\n",
              "35       Flying Beast      1900469            1  1.900469e+06\n",
              "42    Yashraj Mukhate      2139965            1  2.139965e+06\n",
              "4             Mythpat     21415142            8  2.676893e+06\n",
              "18  ashish chanchlani     15614720            5  3.122944e+06\n",
              "39      Harsh Beniwal      3353987            1  3.353987e+06\n",
              "36       Amit Bhadana      4004767            1  4.004767e+06\n",
              "21              BB Ki     13588890            2  6.794445e+06"
            ]
          },
          "metadata": {
            "tags": []
          },
          "execution_count": 233
        }
      ]
    },
    {
      "cell_type": "code",
      "metadata": {
        "id": "azC3jb2yTpzZ"
      },
      "source": [
        "creator_performance.to_csv(\"creator_performance.csv\")"
      ],
      "execution_count": 234,
      "outputs": []
    },
    {
      "cell_type": "markdown",
      "metadata": {
        "id": "PdOo59gIXRwb"
      },
      "source": [
        "### A Comparative Analysis on Shows"
      ]
    },
    {
      "cell_type": "code",
      "metadata": {
        "id": "6N8lKSoBXXr2"
      },
      "source": [
        "shows=[\"Menu Please\",\"Now Memeing\",\"@Tanmay Bhat &\",\"@Tanmay Bhat Reacts\",\"Grandma\",\"Behensplaining\",\"Decode with\",\"f Abish\"]"
      ],
      "execution_count": 307,
      "outputs": []
    },
    {
      "cell_type": "code",
      "metadata": {
        "id": "GGd3ClceYVmS"
      },
      "source": [
        "s=[]\n",
        "showname=[]\n",
        "for t in df.title:\n",
        "  if any(show in t for show in shows):\n",
        "    s.append(True)\n",
        "  else:\n",
        "    s.append(False)\n",
        "df[\"series\"]=s\n",
        "showdf=df[df.series==True]"
      ],
      "execution_count": 308,
      "outputs": []
    },
    {
      "cell_type": "code",
      "metadata": {
        "id": "W6BqkeeudhhN"
      },
      "source": [
        "for t in showdf.title:\n",
        "  for show in shows:\n",
        "    if show in t:\n",
        "      showname.append(show)\n",
        "      "
      ],
      "execution_count": 309,
      "outputs": []
    },
    {
      "cell_type": "code",
      "metadata": {
        "id": "-h1pXz9seKah"
      },
      "source": [
        "showname_clean=[]\n",
        "for s in showname:\n",
        "  if \"@Tanmay\" in s:\n",
        "    showname_clean.append(\"Tanmay Reacts\")\n",
        "  elif 'f Abish' in s:\n",
        "    showname_clean.append(\"Son of Abish\")\n",
        "  elif 'Decode' in s:\n",
        "    showname_clean.append(\"Decode with Dhruv\")\n",
        "  elif \"Grandma\" in s:\n",
        "    showname_clean.append(\"Grandma Reacts\")\n",
        "  else:\n",
        "    showname_clean.append(s) "
      ],
      "execution_count": 311,
      "outputs": []
    },
    {
      "cell_type": "code",
      "metadata": {
        "colab": {
          "base_uri": "https://localhost:8080/"
        },
        "id": "UCFNabn_uCVn",
        "outputId": "a9ca4ef7-f29a-42ea-997a-1b635a3beb14"
      },
      "source": [
        "showdf[\"showname\"]=showname_clean"
      ],
      "execution_count": 312,
      "outputs": [
        {
          "output_type": "stream",
          "text": [
            "/usr/local/lib/python3.6/dist-packages/ipykernel_launcher.py:1: SettingWithCopyWarning: \n",
            "A value is trying to be set on a copy of a slice from a DataFrame.\n",
            "Try using .loc[row_indexer,col_indexer] = value instead\n",
            "\n",
            "See the caveats in the documentation: https://pandas.pydata.org/pandas-docs/stable/user_guide/indexing.html#returning-a-view-versus-a-copy\n",
            "  \"\"\"Entry point for launching an IPython kernel.\n"
          ],
          "name": "stderr"
        }
      ]
    },
    {
      "cell_type": "code",
      "metadata": {
        "id": "e-8-oO5lnQks"
      },
      "source": [
        "showdf1=showdf.groupby(showdf.showname)"
      ],
      "execution_count": 313,
      "outputs": []
    },
    {
      "cell_type": "code",
      "metadata": {
        "colab": {
          "base_uri": "https://localhost:8080/"
        },
        "id": "goyx8xU5wqie",
        "outputId": "b3f44608-1daa-49fb-c019-f97a03a56d2a"
      },
      "source": [
        "showdf[\"likes\"]=showdf['likes'].astype(int)\n",
        "showdf[\"comments\"]=showdf['comments'].astype(int)\n",
        "showdf[\"dislikes\"]=showdf['dislikes'].astype(int)"
      ],
      "execution_count": 321,
      "outputs": [
        {
          "output_type": "stream",
          "text": [
            "/usr/local/lib/python3.6/dist-packages/ipykernel_launcher.py:1: SettingWithCopyWarning: \n",
            "A value is trying to be set on a copy of a slice from a DataFrame.\n",
            "Try using .loc[row_indexer,col_indexer] = value instead\n",
            "\n",
            "See the caveats in the documentation: https://pandas.pydata.org/pandas-docs/stable/user_guide/indexing.html#returning-a-view-versus-a-copy\n",
            "  \"\"\"Entry point for launching an IPython kernel.\n",
            "/usr/local/lib/python3.6/dist-packages/ipykernel_launcher.py:2: SettingWithCopyWarning: \n",
            "A value is trying to be set on a copy of a slice from a DataFrame.\n",
            "Try using .loc[row_indexer,col_indexer] = value instead\n",
            "\n",
            "See the caveats in the documentation: https://pandas.pydata.org/pandas-docs/stable/user_guide/indexing.html#returning-a-view-versus-a-copy\n",
            "  \n",
            "/usr/local/lib/python3.6/dist-packages/ipykernel_launcher.py:3: SettingWithCopyWarning: \n",
            "A value is trying to be set on a copy of a slice from a DataFrame.\n",
            "Try using .loc[row_indexer,col_indexer] = value instead\n",
            "\n",
            "See the caveats in the documentation: https://pandas.pydata.org/pandas-docs/stable/user_guide/indexing.html#returning-a-view-versus-a-copy\n",
            "  This is separate from the ipykernel package so we can avoid doing imports until\n"
          ],
          "name": "stderr"
        }
      ]
    },
    {
      "cell_type": "code",
      "metadata": {
        "id": "YsOYkMnQoCw9"
      },
      "source": [
        "showdf['date'] = pd.to_datetime(showdf['date'],format='%Y-%m-%d')\n",
        "last5ep=showdf.groupby('showname').apply(lambda x: x.sort_values(by=[\"date\"],ascending=False).head(5))"
      ],
      "execution_count": 351,
      "outputs": []
    },
    {
      "cell_type": "code",
      "metadata": {
        "id": "giX5VsM3pNsk"
      },
      "source": [
        "showdf.to_csv(\"showdf.csv\")"
      ],
      "execution_count": 340,
      "outputs": []
    },
    {
      "cell_type": "code",
      "metadata": {
        "id": "_CSQHkB5zGUP"
      },
      "source": [
        "showdf[\"popularity\"]=showdf[\"likes\"]/showdf[\"views\"]"
      ],
      "execution_count": 347,
      "outputs": []
    },
    {
      "cell_type": "code",
      "metadata": {
        "id": "FJE2FDv_7xKW"
      },
      "source": [
        "last5ep.to_csv(\"last5ep.csv\")"
      ],
      "execution_count": 354,
      "outputs": []
    },
    {
      "cell_type": "markdown",
      "metadata": {
        "id": "OlR7Ngst9lj7"
      },
      "source": [
        "### Optimal Duration"
      ]
    },
    {
      "cell_type": "code",
      "metadata": {
        "id": "5-0jnCYE9r8_"
      },
      "source": [
        "duration=[]\n",
        "for v in data:\n",
        "  duration.append(v['items'][0]['contentDetails']['duration'])\n",
        "df[\"duration\"]=duration\n",
        "duration=[]\n",
        "for d in df.duration:\n",
        "  d=d.replace('PT','')\n",
        "  d=d.replace('S','')\n",
        "  d=d.replace(\"M\",\":\")\n",
        "  d=d.replace(\"H\",\":\")\n",
        "  duration.append(d)\n"
      ],
      "execution_count": 8,
      "outputs": []
    },
    {
      "cell_type": "code",
      "metadata": {
        "colab": {
          "base_uri": "https://localhost:8080/"
        },
        "id": "cbaEeo-YJI0E",
        "outputId": "b1a92538-d537-4163-8f19-fe1a7bb05761"
      },
      "source": [
        "#fixing shit now ugh\n",
        "duration1=[]\n",
        "print(duration)\n",
        "for d in duration:\n",
        "  if d.endswith(\":\"):\n",
        "    d=d+\"00\"\n",
        "  if \":\" not in d:\n",
        "    d=\"0:\"+d\n",
        "  duration1.append(d)"
      ],
      "execution_count": 9,
      "outputs": [
        {
          "output_type": "stream",
          "text": [
            "['2:2', '2:3', '1:8', '2:35', '4:36', '1:50', '20:19', '2:12', '1:57', '2:13', '3:20', '1:13', '2:39', '2:', '4:39', '3:4', '43:5', '33', '2:13', '2:3', '11:4', '56', '1:28', '3:2', '1:49', '2:31', '6:41', '30:40', '11:59', '4:', '1:7', '8:15', '6:33', '3:5', '26:8', '5:2', '2:40', '59', '8:33', '7:35', '3:9', '14:44', '5:3', '4:6', '8:53', '6:24', '3:13', '3:2', '3:55', '2:54', '32:12', '4:10', '6:57', '2:56', '2:7', '41', '7:', '4:8', '41', '3:49', '5:43', '41', '5:45', '30', '11:7', '4:55', '34:36', '2:33', '3:8', '1:58', '2:49', '2:18', '2:25', '6:33', '2:30', '2:44', '1:48', '53:31', '1:59', '2:12', '2:59', '7:32', '33:8', '1:6', '2:51', '3:', '12:25', '2:35', '2:3', '32:56', '2:11', '6:12', '1:11', '7:16', '1:30', '6:1', '23:39', '6:55', '5:58', '9:15', '30:25', '8:53', '4:27', '41', '15:1', '2:13', '1:41', '25:19', '14:42', '3:16', '1:5', '3:6', '4:1', '2:27', '13:4', '3:5', '33:27', '2:14', '2:15', '1:37:48', '7:35', '30', '30', '31', '47', '2:26', '1:48', '14:41', '3:7', '2:49', '1:20', '8:3', '1:40:56', '3:28', '4:26', '1:6', '1:10', '1:8', '1:1', '1:11', '34:8', '39', '2:27:31', '42', '2:17', '15:41', '6:49', '1:9', '41', '3:18', '15:24', '3:29', '2:7', '1:44', '3:4', '4:42', '2:57', '7:58', '1:33', '5:17', '10:11', '2:38', '11:3', '1:22', '5:46', '3:6', '1:40', '2:24', '1:24', '7:19', '5:27', '1:7', '1:26', '1:50', '5:28', '2:38', '12:42', '2:16', '6:29', '5:37', '2:28', '15:27', '2:11', '1:46', '41', '14:23', '3:', '1:22', '18:52', '3:49', '2:19', '1:55', '7:49', '1:43', '5:58', '3:27', '4:3', '3:39', '15:21', '9:19', '1:13', '2:47:10', '2:48', '11:55', '2:15', '8:19', '1:33', '10:4', '1:43', '1:9', '6:52', '3:51', '15:13', '19:22', '7:2', '2:16', '2:55', '4:30', '1:39', '1:54', '3:26', '11:15', '3:4', '2:3', '1:16', '1:24', '6:8', '1:29', '3:9', '5:47', '15:51', '1:46', '2:5', '3:19', '7:32', '31', '2:', '2:31', '9:26', '15:5', '2:59', '10:46', '3:18', '17:28', '2:50', '4:39', '4:30', '1:55', '5:11', '4:2', '1:49', '3:33', '5:', '1:15', '1:40', '2:20', '5:53', '2:42', '11:51', '6:9', '5:2', '1:39', '56', '8:28', '4:11', '2:45', '4:21', '41', '2:22', '2:44', '1:56', '14:51', '2:43', '15:24', '3:38', '2:47', '2:45', '5:16', '15:52', '3:41', '3:14', '8:41', '1:17', '11:26', '2:57', '2:3', '1:41', '1:10', '6:23', '3:7', '1:11', '17:51', '2:30', '1:10', '15:5', '8:32', '7:16', '9:', '2:55', '4:3', '2:36', '1:24:56', '5:33', '3:48', '3:53', '8:17', '2:41', '3:12', '2:16', '4:1', '14:43', '2:49', '1:59', '1:43', '2:22', '2:43', '2:28', '2:5', '3:40', '3:49', '8:12', '2:2', '2:19', '6:26', '15:11', '1:41', '2:29', '2:41', '6:6', '13:1', '1:18', '4:42', '8:56', '2:57', '18:2', '5:24', '2:23', '3:45', '54', '3:23', '1:16', '3:35', '2:11', '3:37', '2:3', '3:7', '3:50', '8:49', '2:19', '18:50', '1:55', '1:33', '1:53', '3:31', '53', '8:7', '2:33', '2:6', '2:47', '6:30', '2:33', '2:23', '2:18', '2:', '2:24', '3:13', '1:34', '2:45', '4:40', '3:3', '6:36', '4:20', '3:21', '7:47', '2:42', '24:48', '8:1', '3:37', '1:26', '1:9', '40:22', '2:4', '5:49', '12:4', '1:51', '7:17', '2:47', '5:59', '2:48', '18:14', '1:43', '1:51', '2:32', '10:24', '1:42', '2:2', '2:17', '9:17', '2:7', '2:51', '1:35', '1:55', '2:39', '2:20', '2:34', '2:36', '18:59', '2:53', '6:39', '2:6', '1:38', '21:57', '2:41', '4:37', '2:45', '2:14', '2:20', '2:31', '4:4', '7:3', '2:32', '2:27', '2:37', '3:22', '2:36', '4:8', '2:42', '6:35', '10:8', '3:12', '2:7', '2:43', '13:6', '3:48', '3:13', '9:4', '4:52', '2:31', '20:27', '13:34', '2:2', '7:9', '2:26', '9:42', '47:18', '2:1', '8:54', '1:12', '3:10', '10:44', '3:50', '6:54', '4:28', '19:42', '3:56', '4:14', '3:29', '3:5', '6:36', '4:49', '18:12', '7:13', '2:7', '7:30', '4:57', '10:34', '2:30', '7:8', '1:7:56', '7:12', '19:27', '2:23', '1:25', '2:44', '2:11', '1:32', '3:6', '2:44', '2:53', '1:8:14', '1:57', '1:58', '4:19', '1:54', '3:15', '2:21', '2:45', '4:10', '13:13', '1:54', '7:7', '2:27', '2:40', '2:35', '4:19', '4:37', '6:', '4:35', '3:38', '5:52', '3:50', '8:47', '58', '1:14', '4:30', '1:1', '3:4', '1:', '19:45', '8:52', '3:43', '13:47', '2:53', '3:10', '6:27', '2:51', '2:24', '4:44', '2:2', '11:47', '10:33', '8:40', '1:44', '1:58', '2:6', '3:', '3:48', '2:24', '4:58', '2:45', '2:45', '2:33', '4:15', '3:39', '8:9', '10:30', '2:38', '3:29', '3:3', '4:17', '5:32', '2:38', '2:40', '16:22', '10:11', '3:23', '4:18', '2:36', '2:8', '2:19', '1:52', '11:55', '7:3', '9:38', '2:24', '12:37', '2:38', '5:37', '2:38', '1:51', '1:18', '10:59', '9:57', '8:34', '1:38', '4:24', '1:11', '2:34', '7:55', '2:12', '4:50', '12:34', '2:23', '37', '1:54', '3:19', '2:26', '2:15', '2:12', '1:47', '2:16', '4:33', '2:45', '6:54', '1:52', '3:51', '7:43', '5:21', '1:52', '2:27', '1:45', '55', '2:24', '4:52', '1:18', '10:41', '4:52', '8:58', '1:51', '8:6', '1:30', '3:46', '2:31', '58', '4:27', '8:58', '1:16', '4:57', '2:25', '4:4', '2:14', '4:38', '5:25', '57', '2:50', '3:42', '2:46', '2:37', '4:53', '2:36', '3:50', '4:16', '2:20', '5:54', '4:4', '1:36', '17:', '6:55', '12:34', '5:7', '2:47', '4:2', '6:18', '1:52', '2:4', '1:53', '1:54', '2:23', '2:29', '1:46', '2:28', '4:12', '1:42', '12:11', '2:11', '1:24', '12:34', '4:28', '3:59', '2:46', '2:33', '57', '1:54', '2:44', '3:6', '6:59', '2:2', '1:10', '4:22', '2:21', '2:31', '6:28', '6:42', '2:23', '2:9', '1:42', '2:30', '39:32', '2:3', '7:54', '1:33', '2:54', '1:23', '30:2', '3:51', '1:55', '4:12', '2:19', '1:37', '2:4', '1:19', '8:4', '3:51', '1:31', '35:27', '2:46', '1:56', '2:36', '2:17', '2:24', '2:18', '2:19', '2:17', '7:33', '3:50', '1:41', '1:15', '1:46', '5:34', '2:39', '4:14', '2:32', '1:37', '1:29', '8:36', '2:19', '1:37', '25:7', '1:48', '3:15', '2:17', '31', '45', '3:3', '2:50', '8:44', '34', '1:54', '1:58', '1:26', '8:41', '4:23', '5:2', '3:3', '10:20', '2:11', '8:5', '31:47', '1:', '2:13', '3:38', '1:34', '1:41', '1:29', '1:16', '8:20', '2:21', '2:33', '5:17', '2:33', '1:44', '2:34', '3:42', '2:5', '1:29', '2:40', '10:42', '3:21', '2:32', '4:40', '29:5', '1:11', '1:44', '1:39', '8:26', '1:19', '4:29', '2:8', '4:12', '1:53', '2:19', '1:35', '8:58', '2:14', '4:52', '1:29', '50', '1:50', '1:19', '2:18', '5:6', '9:50', '1:2', '2:44', '4:24', '9:2', '40', '2:11', '29:40', '2:12', '2:1', '1:29', '3:31', '1:17', '2:9', '2:10', '53', '2:', '2:13', '2:1', '3:4', '2:12', '54', '2:6', '1:51', '3:33', '1:35', '11:2', '1:53', '1:45', '2:34', '2:24', '2:12', '1:30', '3:15', '7:57', '2:31', '4:56', '10:42', '1:59', '1:49', '1:57', '44', '1:56', '1:14', '3:27', '2:43', '3:3', '2:57', '2:18', '2:1', '7:10', '9:33', '2:32', '54', '2:52', '3:8', '6:19', '1:26', '1:31', '2:32', '1:23', '7:9', '2:6', '1:53', '6:38', '2:24', '49', '2:7', '1:42', '2:22', '1:1', '4:20', '1:29', '7:29', '2:12', '1:46', '1:45', '2:33', '1:24', '1:35', '10:40', '1:9', '6:42', '3:15', '1:41', '1:15', '39', '3:8', '39', '1:23', '1:13', '2:27', '1:10', '7:26', '2:36', '1:32', '1:31', '28', '1:25', '1:56', '3:46', '3:12', '15:22', '2:22', '3:22', '6:', '1:41', '2:45', '2:5', '1:15', '1:21', '1:34', '3:14', '1:1', '1:14', '2:54', '2:26', '54', '2:21', '4:41', '1:25', '1:7', '2:17', '3:7', '3:2', '5:56', '2:15', '1:3', '2:7', '2:23', '4:36', '13:12', '2:19', '38', '30', '6:30', '3:32', '2:26', '1:8', '58', '1:24', '2:38', '24', '4:11', '3:13', '2:4', '2:36', '3:9', '2:30', '51', '36', '2:5', '6:14', '2:35', '1:35', '4:4', '2:10', '9:1', '54', '2:2', '4:24', '6:49', '21', '44', '2:58', '8:21', '55', '2:8', '4:32', '1:3', '1:14', '2:57', '1:56', '1:50', '8:19', '2:35', '9:17', '2:22', '2:30', '2:13', '7:21', '1:58', '2:17', '5:9', '7:9', '1:34', '2:10', '1:41', '1:50', '52', '2:13', '1:47', '6:52', '39', '31', '2:16', '1:57', '1:23', '2:36', '1:42', '58', '15', '1:13', '2:19', '2:17', '5:2', '1:31', '8:28', '36', '1:41', '1:24', '34', '7:27', '1:27', '2:34', '2:8', '33', '2:4', '52', '6:5', '1:26', '1:25', '2:6', '1:32', '1:38', '1:40', '1:1', '2:1', '6:22', '1:35', '1:51', '4:18', '2:35', '2:37', '6:32', '1:12', '31', '1:43', '2:3', '1:36', '1:41', '1:57', '2:3', '5:57', '1:10', '1:56', '2:7', '33', '1:58', '27', '2:52', '4:14', '1:57', '30', '2:38', '1:56', '44', '3:16', '3:16', '23', '18', '23', '23', '23', '23', '23', '23', '23', '1:1', '1:45', '2:45', '1:36', '2:2', '1:32', '1:53', '1:37', '58', '1:49', '1:30', '1:30', '1:39', '2:37', '2:19', '2:10', '56', '1:51', '1:52', '1:28', '51', '2:3', '6:2', '2:', '2:23', '2:15', '2:4', '25', '2:39', '1:19', '1:1', '2:49', '46', '1:58', '2:26', '1:35', '1:41', '16', '2:38', '2:27', '2:29', '1:32', '2:3', '2:3', '47', '1:8', '38', '2:29', '2:8', '1:5', '1:7', '2:', '1:48', '2:4', '2:45', '1:9', '1:31', '2:6', '2:9', '2:27', '3:17', '2:51', '1:37', '2:14', '2:', '3:', '1:1', '1:1', '3:49', '46', '2:1', '37:21', '5:31', '2:16', '2:5', '1:41', '1:17', '1:39', '1:38', '2:54', '1:29', '2:6', '2:15', '31', '1:46', '2:20', '1:50', '45', '1:14', '1:37', '5:32', '2:30', '1:56', '1:46', '2:38', '43', '2:18', '1:30', '1:19', '52', '2:30', '2:33', '3:15', '1:9', '1:44', '2:46', '55', '2:16', '1:1', '25', '1:35', '4:4', '1:39', '2:14', '2:56', '1:59', '1:38', '16', '2:1', '2:27', '2:22', '1:55', '1:6', '59', '2:18', '3:21', '2:28', '1:1', '1:21', '2:46', '51', '2:26', '46', '1:31', '1:39', '41', '43', '25', '30', '2:52', '1:41', '2:16', '1:57', '2:8', '2:11', '1:54', '1:43', '2:15', '1:29', '1:28', '56', '1:', '46', '27', '2:3', '42', '1:41', '54', '1:34', '2:27', '1:28', '46', '35', '2:24', '2:37', '2:29', '41', '1:58', '51', '1:49', '55', '1:26', '2:17', '56', '2:26', '1:50', '1:27', '2:40', '1:46', '55', '2:25', '3:51', '1:54', '2:58', '2:9', '2:2', '31', '31', '31', '2:56', '1:43', '28', '1:1', '1:22', '1:44', '2:19', '2:43', '2:27', '1:23', '1:7', '54', '58', '2:7', '2:31', '2:30', '48', '3:44', '2:5', '2:24', '1:24', '1:44', '2:41', '2:6', '1:18', '3:20', '2:8', '2:1', '2:16', '2:28', '3:45', '1:51', '1:49', '2:8', '5:1', '35', '2:12', '41', '1:14', '2:1', '2:53', '31', '31', '2:15', '31', '2:10', '2:32', '1:42', '1:32', '1:33', '21', '2:11', '1:13', '38', '35', '2:24', '1:44', '1:', '2:22', '1:43', '1:41', '2:27', '1:40', '2:21', '1:53', '2:8', '2:28', '1:25', '30', '1:7', '51', '1:41', '53', '1:45', '3:5', '1:6', '3:6', '8:41', '3:21', '1:1', '45', '45', '27']\n"
          ],
          "name": "stdout"
        }
      ]
    },
    {
      "cell_type": "code",
      "metadata": {
        "id": "aBZRNkOxJL2l"
      },
      "source": [
        "#more shitfixing\n",
        "duration=[]\n",
        "duration_sec=[]\n",
        "for d in duration1:\n",
        "  t=d.split(\":\")\n",
        "  if len(t)==2:\n",
        "    minute=t[0]\n",
        "    second=t[1]\n",
        "    hour=00\n",
        "  else:\n",
        "    hour=t[0]\n",
        "    hr=t[0]\n",
        "    minute=t[1]\n",
        "    second=t[2]\n",
        "  if int(second)<10:\n",
        "    second=\"0\"+second\n",
        "  if int(minute)<10:\n",
        "    minute=\"0\"+minute\n",
        "  duration.append(str(hour)+\":\"+minute+\":\"+second)\n",
        "  print(minute)\n",
        "  duration_sec.append((int(second)+int(minute)*60+int(hour)*3600))"
      ],
      "execution_count": null,
      "outputs": []
    },
    {
      "cell_type": "code",
      "metadata": {
        "id": "CgLdLFyjT7XL"
      },
      "source": [
        "duration_sec"
      ],
      "execution_count": null,
      "outputs": []
    },
    {
      "cell_type": "code",
      "metadata": {
        "id": "6Z-VMfI4KzhR"
      },
      "source": [
        "df[\"duration\"]=duration\n",
        "df[\"duration_sec\"]=duration_sec\n",
        "df.sort_values(by=\"duration_sec\")"
      ],
      "execution_count": null,
      "outputs": []
    },
    {
      "cell_type": "code",
      "metadata": {
        "id": "fPfztstTYW2_"
      },
      "source": [
        "import numpy as np\n",
        "df_duration=df[df[\"duration_sec\"]<600]\n",
        "bins = np.linspace(df_duration.duration_sec.min(), df_duration.duration_sec.max(), 30)\n"
      ],
      "execution_count": 36,
      "outputs": []
    },
    {
      "cell_type": "code",
      "metadata": {
        "id": "A9vH20QJO7tl"
      },
      "source": [
        "df[\"views\"]=df[\"views\"].astype(int)\n",
        "groups = df_duration.groupby(np.digitize(df_duration.duration_sec, bins))"
      ],
      "execution_count": 39,
      "outputs": []
    },
    {
      "cell_type": "code",
      "metadata": {
        "id": "VKsC8iaIYGMi"
      },
      "source": [
        "optimal_duration=groups.mean()"
      ],
      "execution_count": 48,
      "outputs": []
    },
    {
      "cell_type": "code",
      "metadata": {
        "id": "UG9Fm2Dtbob8"
      },
      "source": [
        "optimal_duration.to_csv(\"optimal_duration.csv\")"
      ],
      "execution_count": 50,
      "outputs": []
    },
    {
      "cell_type": "markdown",
      "metadata": {
        "id": "fwOzUiHkf7Sg"
      },
      "source": [
        "### Days of the week Videos do best"
      ]
    },
    {
      "cell_type": "code",
      "metadata": {
        "id": "Y1wRf5l-gCu4"
      },
      "source": [
        "df[\"dayoftheweek\"]=df[\"date\"].dt.day_name()"
      ],
      "execution_count": 56,
      "outputs": []
    },
    {
      "cell_type": "code",
      "metadata": {
        "id": "_4ettk8ThVrb"
      },
      "source": [
        "optimal_day=df.groupby(by=\"dayoftheweek\").mean()"
      ],
      "execution_count": 59,
      "outputs": []
    },
    {
      "cell_type": "code",
      "metadata": {
        "id": "3Z5Xb7BYhWsE"
      },
      "source": [
        "optimal_day.to_csv(\"optimal_day.csv\")"
      ],
      "execution_count": 61,
      "outputs": []
    },
    {
      "cell_type": "code",
      "metadata": {
        "colab": {
          "base_uri": "https://localhost:8080/",
          "height": 297
        },
        "id": "7YYhRYJzyI_h",
        "outputId": "6c9be6db-1064-4e30-f577-10030059d7cf"
      },
      "source": [
        "optimal_day"
      ],
      "execution_count": 105,
      "outputs": [
        {
          "output_type": "execute_result",
          "data": {
            "text/html": [
              "<div>\n",
              "<style scoped>\n",
              "    .dataframe tbody tr th:only-of-type {\n",
              "        vertical-align: middle;\n",
              "    }\n",
              "\n",
              "    .dataframe tbody tr th {\n",
              "        vertical-align: top;\n",
              "    }\n",
              "\n",
              "    .dataframe thead th {\n",
              "        text-align: right;\n",
              "    }\n",
              "</style>\n",
              "<table border=\"1\" class=\"dataframe\">\n",
              "  <thead>\n",
              "    <tr style=\"text-align: right;\">\n",
              "      <th></th>\n",
              "      <th>views</th>\n",
              "      <th>duration_sec</th>\n",
              "    </tr>\n",
              "    <tr>\n",
              "      <th>dayoftheweek</th>\n",
              "      <th></th>\n",
              "      <th></th>\n",
              "    </tr>\n",
              "  </thead>\n",
              "  <tbody>\n",
              "    <tr>\n",
              "      <th>Friday</th>\n",
              "      <td>1.225501e+06</td>\n",
              "      <td>334.187500</td>\n",
              "    </tr>\n",
              "    <tr>\n",
              "      <th>Monday</th>\n",
              "      <td>1.014532e+06</td>\n",
              "      <td>289.130682</td>\n",
              "    </tr>\n",
              "    <tr>\n",
              "      <th>Saturday</th>\n",
              "      <td>7.338042e+05</td>\n",
              "      <td>388.891892</td>\n",
              "    </tr>\n",
              "    <tr>\n",
              "      <th>Sunday</th>\n",
              "      <td>1.008322e+06</td>\n",
              "      <td>269.576271</td>\n",
              "    </tr>\n",
              "    <tr>\n",
              "      <th>Thursday</th>\n",
              "      <td>5.863760e+05</td>\n",
              "      <td>274.414530</td>\n",
              "    </tr>\n",
              "    <tr>\n",
              "      <th>Tuesday</th>\n",
              "      <td>1.219512e+06</td>\n",
              "      <td>190.917949</td>\n",
              "    </tr>\n",
              "    <tr>\n",
              "      <th>Wednesday</th>\n",
              "      <td>3.270312e+06</td>\n",
              "      <td>222.824074</td>\n",
              "    </tr>\n",
              "  </tbody>\n",
              "</table>\n",
              "</div>"
            ],
            "text/plain": [
              "                     views  duration_sec\n",
              "dayoftheweek                            \n",
              "Friday        1.225501e+06    334.187500\n",
              "Monday        1.014532e+06    289.130682\n",
              "Saturday      7.338042e+05    388.891892\n",
              "Sunday        1.008322e+06    269.576271\n",
              "Thursday      5.863760e+05    274.414530\n",
              "Tuesday       1.219512e+06    190.917949\n",
              "Wednesday     3.270312e+06    222.824074"
            ]
          },
          "metadata": {
            "tags": []
          },
          "execution_count": 105
        }
      ]
    },
    {
      "cell_type": "markdown",
      "metadata": {
        "id": "ekbe4TtCjk91"
      },
      "source": [
        "### Best Time to Post"
      ]
    },
    {
      "cell_type": "code",
      "metadata": {
        "id": "pxc9K59Ekx9g"
      },
      "source": [
        "df['time'] = pd.to_datetime(df['time'], format='%H:%M:%S').dt.hour"
      ],
      "execution_count": 65,
      "outputs": []
    },
    {
      "cell_type": "code",
      "metadata": {
        "id": "C8W8h_tYjnXK"
      },
      "source": [
        "bins = np.linspace(df.time.min(), df.time.max(), 24)\n",
        "groups = df.groupby(np.digitize(df.time, bins))"
      ],
      "execution_count": 86,
      "outputs": []
    },
    {
      "cell_type": "code",
      "metadata": {
        "id": "HwsmrhrIlHUw"
      },
      "source": [
        "optimal_time=groups.mean()\n",
        "optimal_time.to_csv(\"optimal_time.csv\")"
      ],
      "execution_count": 88,
      "outputs": []
    },
    {
      "cell_type": "markdown",
      "metadata": {
        "id": "DgbDFAulsQ_V"
      },
      "source": [
        "### Analysis on Video Tags\n",
        "Top 100 Tags"
      ]
    },
    {
      "cell_type": "code",
      "metadata": {
        "colab": {
          "base_uri": "https://localhost:8080/",
          "height": 450
        },
        "id": "up4DtesAsXfb",
        "outputId": "3bbb65bb-57a2-4f71-e641-6cb13b1aeac2"
      },
      "source": [
        "df.explode(\"tags\").groupby(\"tags\").mean().sort_values(\"views\",ascending=False)"
      ],
      "execution_count": 106,
      "outputs": [
        {
          "output_type": "execute_result",
          "data": {
            "text/html": [
              "<div>\n",
              "<style scoped>\n",
              "    .dataframe tbody tr th:only-of-type {\n",
              "        vertical-align: middle;\n",
              "    }\n",
              "\n",
              "    .dataframe tbody tr th {\n",
              "        vertical-align: top;\n",
              "    }\n",
              "\n",
              "    .dataframe thead th {\n",
              "        text-align: right;\n",
              "    }\n",
              "</style>\n",
              "<table border=\"1\" class=\"dataframe\">\n",
              "  <thead>\n",
              "    <tr style=\"text-align: right;\">\n",
              "      <th></th>\n",
              "      <th>views</th>\n",
              "      <th>time</th>\n",
              "      <th>duration_sec</th>\n",
              "    </tr>\n",
              "    <tr>\n",
              "      <th>tags</th>\n",
              "      <th></th>\n",
              "      <th></th>\n",
              "      <th></th>\n",
              "    </tr>\n",
              "  </thead>\n",
              "  <tbody>\n",
              "    <tr>\n",
              "      <th>Drums</th>\n",
              "      <td>1.065618e+08</td>\n",
              "      <td>8.000000</td>\n",
              "      <td>147.800000</td>\n",
              "    </tr>\n",
              "    <tr>\n",
              "      <th>Shows for kids</th>\n",
              "      <td>9.205445e+07</td>\n",
              "      <td>8.285714</td>\n",
              "      <td>147.428571</td>\n",
              "    </tr>\n",
              "    <tr>\n",
              "      <th>Jungle</th>\n",
              "      <td>7.731177e+07</td>\n",
              "      <td>8.000000</td>\n",
              "      <td>151.000000</td>\n",
              "    </tr>\n",
              "    <tr>\n",
              "      <th>Mighty Little Bheem</th>\n",
              "      <td>7.324198e+07</td>\n",
              "      <td>9.222222</td>\n",
              "      <td>157.111111</td>\n",
              "    </tr>\n",
              "    <tr>\n",
              "      <th>Kids</th>\n",
              "      <td>6.780417e+07</td>\n",
              "      <td>6.888889</td>\n",
              "      <td>149.000000</td>\n",
              "    </tr>\n",
              "    <tr>\n",
              "      <th>...</th>\n",
              "      <td>...</td>\n",
              "      <td>...</td>\n",
              "      <td>...</td>\n",
              "    </tr>\n",
              "    <tr>\n",
              "      <th>Millie Brown</th>\n",
              "      <td>6.110000e+02</td>\n",
              "      <td>19.000000</td>\n",
              "      <td>521.000000</td>\n",
              "    </tr>\n",
              "    <tr>\n",
              "      <th>Ross Duffer</th>\n",
              "      <td>6.110000e+02</td>\n",
              "      <td>19.000000</td>\n",
              "      <td>521.000000</td>\n",
              "    </tr>\n",
              "    <tr>\n",
              "      <th>Charlie Heaton</th>\n",
              "      <td>6.110000e+02</td>\n",
              "      <td>19.000000</td>\n",
              "      <td>521.000000</td>\n",
              "    </tr>\n",
              "    <tr>\n",
              "      <th>Opener</th>\n",
              "      <td>6.110000e+02</td>\n",
              "      <td>19.000000</td>\n",
              "      <td>521.000000</td>\n",
              "    </tr>\n",
              "    <tr>\n",
              "      <th>Sneak Peek</th>\n",
              "      <td>6.110000e+02</td>\n",
              "      <td>19.000000</td>\n",
              "      <td>521.000000</td>\n",
              "    </tr>\n",
              "  </tbody>\n",
              "</table>\n",
              "<p>11413 rows × 3 columns</p>\n",
              "</div>"
            ],
            "text/plain": [
              "                            views       time  duration_sec\n",
              "tags                                                      \n",
              "Drums                1.065618e+08   8.000000    147.800000\n",
              "Shows for kids       9.205445e+07   8.285714    147.428571\n",
              "Jungle               7.731177e+07   8.000000    151.000000\n",
              "Mighty Little Bheem  7.324198e+07   9.222222    157.111111\n",
              "Kids                 6.780417e+07   6.888889    149.000000\n",
              "...                           ...        ...           ...\n",
              "Millie Brown         6.110000e+02  19.000000    521.000000\n",
              "Ross Duffer          6.110000e+02  19.000000    521.000000\n",
              "Charlie Heaton       6.110000e+02  19.000000    521.000000\n",
              "Opener               6.110000e+02  19.000000    521.000000\n",
              "Sneak Peek           6.110000e+02  19.000000    521.000000\n",
              "\n",
              "[11413 rows x 3 columns]"
            ]
          },
          "metadata": {
            "tags": []
          },
          "execution_count": 106
        }
      ]
    },
    {
      "cell_type": "code",
      "metadata": {
        "id": "kvHqua2Usqkq"
      },
      "source": [
        "top100tags.to_csv(\"top100tags.csv\")"
      ],
      "execution_count": 104,
      "outputs": []
    }
  ]
}